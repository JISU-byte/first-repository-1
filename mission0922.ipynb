{
  "nbformat": 4,
  "nbformat_minor": 0,
  "metadata": {
    "colab": {
      "provenance": []
    },
    "kernelspec": {
      "name": "python3",
      "display_name": "Python 3"
    },
    "language_info": {
      "name": "python"
    }
  },
  "cells": [
    {
      "cell_type": "code",
      "execution_count": null,
      "metadata": {
        "id": "GPkA8PhZOFTU"
      },
      "outputs": [],
      "source": [
        "mport random\n",
        "\n",
        "def Q1():\n",
        "    answer = ''.join(random.sample('0123456789', 5))\n",
        "    print('===숫자 야구 게임===')\n",
        "    attempt = 0\n",
        "\n",
        "    while True:\n",
        "        guess = input('5가지 숫자를 입력하세요. / quit하면 loop 탈출')\n",
        "        if guess == 'quit':\n",
        "            break\n",
        "        if len(guess) != 5 or not guess.isdigit():\n",
        "            print('다시 입력하세요.')\n",
        "            continue\n",
        "\n",
        "        elif len(set(guess)) != 5:\n",
        "            print('다시 입력해주세요. 서로 다른 5가지 숫자로 !')\n",
        "            continue\n",
        "\n",
        "        attempt += 1\n",
        "        ball = 0\n",
        "        strike = 0\n",
        "\n",
        "        for i in range(5):  # range : 0~4\n",
        "            if guess[i] == answer[i]:\n",
        "                strike += 1\n",
        "            elif guess[i] in answer:\n",
        "                ball += 1\n",
        "\n",
        "        print(\"\\n\" + \"─\" * 40)\n",
        "        print(f\" [시도 {attempt}회차 결과]\")\n",
        "        print(f'정답: {answer}, 입력: {guess}')\n",
        "        print(f'skrike 점수 : {strike} , ball 점수 : {ball}')\n",
        "\n",
        "\n",
        "        if strike == 5:\n",
        "            print('정답입니다.')\n",
        "            break\n",
        "\n",
        "Q1()"
      ]
    }
  ]
}